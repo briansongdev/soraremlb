{
 "cells": [
  {
   "cell_type": "markdown",
   "metadata": {},
   "source": [
    "Get list of well-developed players and rookies/players with less than 1 year of service time."
   ]
  },
  {
   "cell_type": "code",
   "execution_count": null,
   "metadata": {},
   "outputs": [],
   "source": [
    "pip install pybaseball -q"
   ]
  },
  {
   "cell_type": "markdown",
   "metadata": {},
   "source": [
    "Split players into their position (P, C, 1/2/3B, OF, DH)"
   ]
  },
  {
   "cell_type": "code",
   "execution_count": 1,
   "metadata": {},
   "outputs": [],
   "source": [
    "from pybaseball import playerid_lookup, chadwick_register, statcast_batter, statcast_pitcher\n",
    "import pandas as pd\n",
    "import json\n",
    "\n",
    "# df = chadwick_register(save=True)\n",
    "# df = df.query('mlb_played_first > 2013 and mlb_played_last == 2024')\n",
    "\n",
    "relevant_columns = [\"name_first\", \"name_last\", \"key_mlbam\", \"mlb_played_first\", \"mlb_played_last\"]\n",
    "\n",
    "df = pd.read_pickle('./playerslastdecade.pkl')[relevant_columns].sort_values(by=['name_first']).reset_index(drop=True)\n",
    "\n",
    "filtered_player_arr = df.to_json(orient=\"records\")\n",
    "with open(\"playerslastdecade.json\", \"w\") as out:\n",
    "    out.write(filtered_player_arr)"
   ]
  },
  {
   "cell_type": "code",
   "execution_count": 52,
   "metadata": {},
   "outputs": [
    {
     "name": "stdout",
     "output_type": "stream",
     "text": [
      "Gathering Player Data\n"
     ]
    },
    {
     "data": {
      "text/plain": [
       "Series([], Name: release_speed, dtype: object)"
      ]
     },
     "execution_count": 52,
     "metadata": {},
     "output_type": "execute_result"
    }
   ],
   "source": [
    "# Example query using statcast_pitcher\n",
    "kershaw_stats = statcast_pitcher('2023-07-01', '2023-07-02', 477132)\n",
    "kershaw_stats.groupby(\"pitch_type\").release_speed.agg(\"mean\")"
   ]
  },
  {
   "cell_type": "code",
   "execution_count": 15,
   "metadata": {},
   "outputs": [
    {
     "data": {
      "text/html": [
       "<div>\n",
       "<style scoped>\n",
       "    .dataframe tbody tr th:only-of-type {\n",
       "        vertical-align: middle;\n",
       "    }\n",
       "\n",
       "    .dataframe tbody tr th {\n",
       "        vertical-align: top;\n",
       "    }\n",
       "\n",
       "    .dataframe thead th {\n",
       "        text-align: right;\n",
       "    }\n",
       "</style>\n",
       "<table border=\"1\" class=\"dataframe\">\n",
       "  <thead>\n",
       "    <tr style=\"text-align: right;\">\n",
       "      <th></th>\n",
       "      <th>name_first</th>\n",
       "      <th>name_last</th>\n",
       "      <th>key_mlbam</th>\n",
       "      <th>mlb_played_first</th>\n",
       "      <th>mlb_played_last</th>\n",
       "    </tr>\n",
       "  </thead>\n",
       "  <tbody>\n",
       "    <tr>\n",
       "      <th>186</th>\n",
       "      <td>CJ</td>\n",
       "      <td>Abrams</td>\n",
       "      <td>682928</td>\n",
       "      <td>2022.0</td>\n",
       "      <td>2023.0</td>\n",
       "    </tr>\n",
       "  </tbody>\n",
       "</table>\n",
       "</div>"
      ],
      "text/plain": [
       "    name_first name_last  key_mlbam  mlb_played_first  mlb_played_last\n",
       "186         CJ    Abrams     682928            2022.0           2023.0"
      ]
     },
     "execution_count": 15,
     "metadata": {},
     "output_type": "execute_result"
    }
   ],
   "source": [
    "df.query(\"name_last == 'Abrams'\")"
   ]
  },
  {
   "cell_type": "code",
   "execution_count": 54,
   "metadata": {},
   "outputs": [
    {
     "data": {
      "text/html": [
       "<div>\n",
       "<style scoped>\n",
       "    .dataframe tbody tr th:only-of-type {\n",
       "        vertical-align: middle;\n",
       "    }\n",
       "\n",
       "    .dataframe tbody tr th {\n",
       "        vertical-align: top;\n",
       "    }\n",
       "\n",
       "    .dataframe thead th {\n",
       "        text-align: right;\n",
       "    }\n",
       "</style>\n",
       "<table border=\"1\" class=\"dataframe\">\n",
       "  <thead>\n",
       "    <tr style=\"text-align: right;\">\n",
       "      <th></th>\n",
       "      <th>player</th>\n",
       "    </tr>\n",
       "  </thead>\n",
       "  <tbody>\n",
       "    <tr>\n",
       "      <th>activeClub</th>\n",
       "      <td>{'name': 'Borussia Dortmund'}</td>\n",
       "    </tr>\n",
       "    <tr>\n",
       "      <th>activeInjuries</th>\n",
       "      <td>[]</td>\n",
       "    </tr>\n",
       "    <tr>\n",
       "      <th>activeSuspensions</th>\n",
       "      <td>[]</td>\n",
       "    </tr>\n",
       "    <tr>\n",
       "      <th>age</th>\n",
       "      <td>24</td>\n",
       "    </tr>\n",
       "    <tr>\n",
       "      <th>firstName</th>\n",
       "      <td>Nico</td>\n",
       "    </tr>\n",
       "    <tr>\n",
       "      <th>lastName</th>\n",
       "      <td>Schlotterbeck</td>\n",
       "    </tr>\n",
       "    <tr>\n",
       "      <th>position</th>\n",
       "      <td>Defender</td>\n",
       "    </tr>\n",
       "    <tr>\n",
       "      <th>so5Scores</th>\n",
       "      <td>[{'score': 48.8}, {'score': 85.4}, {'score': 2...</td>\n",
       "    </tr>\n",
       "  </tbody>\n",
       "</table>\n",
       "</div>"
      ],
      "text/plain": [
       "                                                              player\n",
       "activeClub                             {'name': 'Borussia Dortmund'}\n",
       "activeInjuries                                                    []\n",
       "activeSuspensions                                                 []\n",
       "age                                                               24\n",
       "firstName                                                       Nico\n",
       "lastName                                               Schlotterbeck\n",
       "position                                                    Defender\n",
       "so5Scores          [{'score': 48.8}, {'score': 85.4}, {'score': 2..."
      ]
     },
     "execution_count": 54,
     "metadata": {},
     "output_type": "execute_result"
    }
   ],
   "source": [
    "import requests\n",
    "import json\n",
    "import pandas as pd\n",
    "\n",
    "query = \"\"\"{\n",
    " player(slug:\"nico-schlotterbeck\") {\n",
    "   firstName\n",
    "   lastName\n",
    "   position\n",
    "   activeClub {\n",
    "     name\n",
    "   }\n",
    "   activeInjuries {\n",
    "     active\n",
    "   }\n",
    "   activeSuspensions {\n",
    "     active\n",
    "   }\n",
    "   age\n",
    "   so5Scores(last:5) {\n",
    "     score\n",
    "   }\n",
    " }\n",
    "}\"\"\"\n",
    "url = 'https://api.sorare.com/graphql/'\n",
    "r = requests.post(url, json={'query': query})\n",
    "json_data = json.loads(r.text)\n",
    "df_data = json_data['data']\n",
    "df = pd.DataFrame(df_data)\n",
    "df"
   ]
  },
  {
   "cell_type": "code",
   "execution_count": null,
   "metadata": {},
   "outputs": [],
   "source": []
  }
 ],
 "metadata": {
  "kernelspec": {
   "display_name": "Python 3",
   "language": "python",
   "name": "python3"
  },
  "language_info": {
   "codemirror_mode": {
    "name": "ipython",
    "version": 3
   },
   "file_extension": ".py",
   "mimetype": "text/x-python",
   "name": "python",
   "nbconvert_exporter": "python",
   "pygments_lexer": "ipython3",
   "version": "3.11.4"
  }
 },
 "nbformat": 4,
 "nbformat_minor": 2
}
