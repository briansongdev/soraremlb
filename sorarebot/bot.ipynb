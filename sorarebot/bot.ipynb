{
 "cells": [
  {
   "cell_type": "markdown",
   "metadata": {},
   "source": [
    "Get list of well-developed players and rookies/players with less than 1 year of service time."
   ]
  },
  {
   "cell_type": "code",
   "execution_count": null,
   "metadata": {},
   "outputs": [],
   "source": [
    "pip install pybaseball -q"
   ]
  },
  {
   "cell_type": "markdown",
   "metadata": {},
   "source": [
    "Split players into their position (P, C, 1/2/3B, OF, DH)"
   ]
  },
  {
   "cell_type": "code",
   "execution_count": 2,
   "metadata": {},
   "outputs": [],
   "source": [
    "from pybaseball import playerid_lookup, chadwick_register, statcast_batter, statcast_pitcher\n",
    "import pandas as pd\n",
    "import json\n",
    "\n",
    "# Updated code to account for the 2024 season once it begins.\n",
    "# df = chadwick_register(save=True)\n",
    "# df = df.query('mlb_played_first > 2013 and mlb_played_last == 2024')\n",
    "\n",
    "# relevant_columns = [\"name_first\", \"name_last\", \"key_mlbam\", \"mlb_played_first\", \"mlb_played_last\"]\n",
    "\n",
    "# df = pd.read_pickle('./playerslastdecade.pkl')[relevant_columns].sort_values(by=['name_first']).reset_index(drop=True)\n",
    "\n",
    "# filtered_player_arr = df.to_json(orient=\"records\")\n",
    "# with open(\"playerslastdecade.json\", \"w\") as out:\n",
    "#     out.write(filtered_player_arr)"
   ]
  },
  {
   "cell_type": "markdown",
   "metadata": {},
   "source": [
    "Use a prediction model taking into account basic stats plotted against the player's actual value. Play around with which stats to prioritize."
   ]
  },
  {
   "cell_type": "code",
   "execution_count": 9,
   "metadata": {},
   "outputs": [
    {
     "name": "stdout",
     "output_type": "stream",
     "text": [
      "BEGIN FILTERING...\n",
      "ON TASK 1 OF 6\n"
     ]
    },
    {
     "name": "stderr",
     "output_type": "stream",
     "text": [
      "/var/folders/1x/rxyxlt2x5vq06s0v666ymf2w0000gn/T/ipykernel_76939/2375310987.py:18: SettingWithCopyWarning: \n",
      "A value is trying to be set on a copy of a slice from a DataFrame\n",
      "\n",
      "See the caveats in the documentation: https://pandas.pydata.org/pandas-docs/stable/user_guide/indexing.html#returning-a-view-versus-a-copy\n",
      "  df.dropna(inplace=True)\n"
     ]
    },
    {
     "name": "stdout",
     "output_type": "stream",
     "text": [
      "ON TASK 2 OF 6\n",
      "ON TASK 3 OF 6\n",
      "ON TASK 4 OF 6\n",
      "ON TASK 5 OF 6\n"
     ]
    },
    {
     "name": "stderr",
     "output_type": "stream",
     "text": [
      "/var/folders/1x/rxyxlt2x5vq06s0v666ymf2w0000gn/T/ipykernel_76939/2375310987.py:27: SettingWithCopyWarning: \n",
      "A value is trying to be set on a copy of a slice from a DataFrame\n",
      "\n",
      "See the caveats in the documentation: https://pandas.pydata.org/pandas-docs/stable/user_guide/indexing.html#returning-a-view-versus-a-copy\n",
      "  df.dropna(inplace=True)\n"
     ]
    },
    {
     "name": "stdout",
     "output_type": "stream",
     "text": [
      "ON TASK 6 OF 6\n"
     ]
    },
    {
     "name": "stderr",
     "output_type": "stream",
     "text": [
      "/var/folders/1x/rxyxlt2x5vq06s0v666ymf2w0000gn/T/ipykernel_76939/2375310987.py:35: SettingWithCopyWarning: \n",
      "A value is trying to be set on a copy of a slice from a DataFrame\n",
      "\n",
      "See the caveats in the documentation: https://pandas.pydata.org/pandas-docs/stable/user_guide/indexing.html#returning-a-view-versus-a-copy\n",
      "  df.dropna(inplace=True)\n"
     ]
    },
    {
     "name": "stdout",
     "output_type": "stream",
     "text": [
      "DONE!\n"
     ]
    }
   ],
   "source": [
    "from pybaseball import batting_stats_bref, pitching_stats_bref\n",
    "import json\n",
    "\n",
    "dataB = batting_stats_bref(2023)\n",
    "dataP = pitching_stats_bref(2023)\n",
    "\n",
    "filtered_data = json.load(open(\"../sorarehelpers/u_scores_and_ids.json\"))\n",
    "nw_df_arr = [list() for _ in range(6)]\n",
    "\n",
    "print(\"BEGIN FILTERING...\")\n",
    "\n",
    "for idx, val in enumerate(filtered_data):\n",
    "    print(\"ON TASK\", idx + 1, \"OF\", len(filtered_data))\n",
    "    if idx < 4:\n",
    "        for player, obj in val.items():\n",
    "            # Age, GP, PA, BA, OBP, SLG, R, RBI, HR, SB, SORARE AVG SCORE // PRICE\n",
    "            df = dataB.query(\"mlbID == %s\" % (obj[1]))\n",
    "            df.dropna(inplace=True)\n",
    "            if df.size:\n",
    "                player_elem = [player, float(df[\"Age\"].iloc[0]), int(df[\"G\"].iloc[0]), int(df[\"PA\"].iloc[0]), float(df[\"BA\"].iloc[0]), float(df[\"OBP\"].iloc[0]), float(df[\"SLG\"].iloc[0]), int(df[\"R\"].iloc[0]), int(df[\"RBI\"].iloc[0]), int(df[\"HR\"].iloc[0]), int(df[\"SB\"].iloc[0]), obj[0], obj[2]]\n",
    "                nw_df_arr[idx].append(player_elem)\n",
    "    else:\n",
    "        if idx == 4:\n",
    "            for player, obj in val.items():\n",
    "                # Age, G, W, L, IP, SO, ERA, WHIP, SO9, SORARE AVG SCORE // PRICE (starter)\n",
    "                df = dataP.query(\"mlbID == '%s'\" % (obj[1]))\n",
    "                df.dropna(inplace=True)\n",
    "                if df.size:\n",
    "                    player_elem = [player, int(df[\"Age\"].iloc[0]), int(df[\"G\"].iloc[0]), int(df[\"W\"].iloc[0]), int(df[\"L\"].iloc[0]), int(df[\"IP\"].iloc[0]), int(df[\"SO\"].iloc[0]), float(df[\"ERA\"].iloc[0]), float(df[\"WHIP\"].iloc[0]), float(df[\"SO9\"].iloc[0]), obj[0], obj[2]]\n",
    "                    nw_df_arr[idx].append(player_elem)\n",
    "        else:\n",
    "            for player, obj in val.items():\n",
    "                # Age, SV, IP, SO, ERA, WHIP, SO9, SORARE AVG SCORE // PRICE (closer/reliever)\n",
    "                df = dataP.query(\"mlbID == '%s'\" % (obj[1]))\n",
    "                df.dropna(inplace=True)\n",
    "                if df.size:\n",
    "                    player_elem = [player, int(df[\"Age\"].iloc[0]), int(df[\"SV\"].iloc[0]), int(df[\"IP\"].iloc[0]), int(df[\"SO\"].iloc[0]), float(df[\"ERA\"].iloc[0]), float(df[\"WHIP\"].iloc[0]), float(df[\"SO9\"].iloc[0]), obj[0], obj[2]]\n",
    "                    nw_df_arr[idx].append(player_elem)\n",
    "\n",
    "nw_df_arr_json = json.dumps(nw_df_arr, indent=4)\n",
    "with open(\"./dfs.json\", \"w\") as out:\n",
    "    out.write(nw_df_arr_json)\n",
    "\n",
    "print(\"DONE!\")"
   ]
  },
  {
   "cell_type": "code",
   "execution_count": 20,
   "metadata": {},
   "outputs": [
    {
     "name": "stderr",
     "output_type": "stream",
     "text": [
      "/opt/homebrew/lib/python3.11/site-packages/sklearn/neural_network/_multilayer_perceptron.py:691: ConvergenceWarning: Stochastic Optimizer: Maximum iterations (200) reached and the optimization hasn't converged yet.\n",
      "  warnings.warn(\n"
     ]
    },
    {
     "data": {
      "text/html": [
       "<style>#sk-container-id-4 {color: black;}#sk-container-id-4 pre{padding: 0;}#sk-container-id-4 div.sk-toggleable {background-color: white;}#sk-container-id-4 label.sk-toggleable__label {cursor: pointer;display: block;width: 100%;margin-bottom: 0;padding: 0.3em;box-sizing: border-box;text-align: center;}#sk-container-id-4 label.sk-toggleable__label-arrow:before {content: \"▸\";float: left;margin-right: 0.25em;color: #696969;}#sk-container-id-4 label.sk-toggleable__label-arrow:hover:before {color: black;}#sk-container-id-4 div.sk-estimator:hover label.sk-toggleable__label-arrow:before {color: black;}#sk-container-id-4 div.sk-toggleable__content {max-height: 0;max-width: 0;overflow: hidden;text-align: left;background-color: #f0f8ff;}#sk-container-id-4 div.sk-toggleable__content pre {margin: 0.2em;color: black;border-radius: 0.25em;background-color: #f0f8ff;}#sk-container-id-4 input.sk-toggleable__control:checked~div.sk-toggleable__content {max-height: 200px;max-width: 100%;overflow: auto;}#sk-container-id-4 input.sk-toggleable__control:checked~label.sk-toggleable__label-arrow:before {content: \"▾\";}#sk-container-id-4 div.sk-estimator input.sk-toggleable__control:checked~label.sk-toggleable__label {background-color: #d4ebff;}#sk-container-id-4 div.sk-label input.sk-toggleable__control:checked~label.sk-toggleable__label {background-color: #d4ebff;}#sk-container-id-4 input.sk-hidden--visually {border: 0;clip: rect(1px 1px 1px 1px);clip: rect(1px, 1px, 1px, 1px);height: 1px;margin: -1px;overflow: hidden;padding: 0;position: absolute;width: 1px;}#sk-container-id-4 div.sk-estimator {font-family: monospace;background-color: #f0f8ff;border: 1px dotted black;border-radius: 0.25em;box-sizing: border-box;margin-bottom: 0.5em;}#sk-container-id-4 div.sk-estimator:hover {background-color: #d4ebff;}#sk-container-id-4 div.sk-parallel-item::after {content: \"\";width: 100%;border-bottom: 1px solid gray;flex-grow: 1;}#sk-container-id-4 div.sk-label:hover label.sk-toggleable__label {background-color: #d4ebff;}#sk-container-id-4 div.sk-serial::before {content: \"\";position: absolute;border-left: 1px solid gray;box-sizing: border-box;top: 0;bottom: 0;left: 50%;z-index: 0;}#sk-container-id-4 div.sk-serial {display: flex;flex-direction: column;align-items: center;background-color: white;padding-right: 0.2em;padding-left: 0.2em;position: relative;}#sk-container-id-4 div.sk-item {position: relative;z-index: 1;}#sk-container-id-4 div.sk-parallel {display: flex;align-items: stretch;justify-content: center;background-color: white;position: relative;}#sk-container-id-4 div.sk-item::before, #sk-container-id-4 div.sk-parallel-item::before {content: \"\";position: absolute;border-left: 1px solid gray;box-sizing: border-box;top: 0;bottom: 0;left: 50%;z-index: -1;}#sk-container-id-4 div.sk-parallel-item {display: flex;flex-direction: column;z-index: 1;position: relative;background-color: white;}#sk-container-id-4 div.sk-parallel-item:first-child::after {align-self: flex-end;width: 50%;}#sk-container-id-4 div.sk-parallel-item:last-child::after {align-self: flex-start;width: 50%;}#sk-container-id-4 div.sk-parallel-item:only-child::after {width: 0;}#sk-container-id-4 div.sk-dashed-wrapped {border: 1px dashed gray;margin: 0 0.4em 0.5em 0.4em;box-sizing: border-box;padding-bottom: 0.4em;background-color: white;}#sk-container-id-4 div.sk-label label {font-family: monospace;font-weight: bold;display: inline-block;line-height: 1.2em;}#sk-container-id-4 div.sk-label-container {text-align: center;}#sk-container-id-4 div.sk-container {/* jupyter's `normalize.less` sets `[hidden] { display: none; }` but bootstrap.min.css set `[hidden] { display: none !important; }` so we also need the `!important` here to be able to override the default hidden behavior on the sphinx rendered scikit-learn.org. See: https://github.com/scikit-learn/scikit-learn/issues/21755 */display: inline-block !important;position: relative;}#sk-container-id-4 div.sk-text-repr-fallback {display: none;}</style><div id=\"sk-container-id-4\" class=\"sk-top-container\"><div class=\"sk-text-repr-fallback\"><pre>MLPRegressor()</pre><b>In a Jupyter environment, please rerun this cell to show the HTML representation or trust the notebook. <br />On GitHub, the HTML representation is unable to render, please try loading this page with nbviewer.org.</b></div><div class=\"sk-container\" hidden><div class=\"sk-item\"><div class=\"sk-estimator sk-toggleable\"><input class=\"sk-toggleable__control sk-hidden--visually\" id=\"sk-estimator-id-4\" type=\"checkbox\" checked><label for=\"sk-estimator-id-4\" class=\"sk-toggleable__label sk-toggleable__label-arrow\">MLPRegressor</label><div class=\"sk-toggleable__content\"><pre>MLPRegressor()</pre></div></div></div></div></div>"
      ],
      "text/plain": [
       "MLPRegressor()"
      ]
     },
     "execution_count": 20,
     "metadata": {},
     "output_type": "execute_result"
    }
   ],
   "source": [
    "import pandas as pd\n",
    "import json\n",
    "of_df = pd.DataFrame(json.load(open(\"./dfs.json\"))[0], columns=\"Name, Age, GP, PA, BA, OBP, SLG, R, RBI, HR, SB, SR Score, Price\".split(\", \"))\n",
    "of_df\n",
    "\n",
    "# create x (features matrix)\n",
    "X = of_df.drop(\"Price\", axis=1)\n",
    "# create y (labels matrix)\n",
    "y = of_df[\"Price\"]\n",
    "\n",
    "import sklearn\n",
    "from sklearn.ensemble import RandomForestRegressor\n",
    "# from sklearn.linear_model import LinearRegresion, Lasso, ElasticNet\n",
    "from sklearn.svm import LinearSVR, SVR\n",
    "from sklearn.neural_network import MLPRegressor\n",
    "clf = MLPRegressor()\n",
    "\n",
    "from sklearn.model_selection import train_test_split\n",
    "# from sklearn.preprocessing import OneHotEncoder\n",
    "# from sklearn.compose import ColumnTransformer\n",
    "\n",
    "# categorical_features = [\"Name\"]\n",
    "# one_hot = OneHotEncoder()\n",
    "# transformer = ColumnTransformer([(\"one_hot\", one_hot, categorical_features)], remainder=\"passthrough\")\n",
    "# transformed_X = transformer.fit_transform(X)\n",
    "\n",
    "dX = X.drop(\"Name\", axis=1)\n",
    "\n",
    "X_train, X_test, Y_train, Y_test = train_test_split(dX, y, test_size=0.2)\n",
    "\n",
    "clf.fit(X_train, Y_train)"
   ]
  },
  {
   "cell_type": "code",
   "execution_count": 21,
   "metadata": {},
   "outputs": [
    {
     "data": {
      "text/plain": [
       "0.7791932299601056"
      ]
     },
     "execution_count": 21,
     "metadata": {},
     "output_type": "execute_result"
    }
   ],
   "source": [
    "clf.score(X_test, Y_test)"
   ]
  },
  {
   "cell_type": "code",
   "execution_count": 25,
   "metadata": {},
   "outputs": [
    {
     "data": {
      "text/plain": [
       "array([42.03843858])"
      ]
     },
     "execution_count": 25,
     "metadata": {},
     "output_type": "execute_result"
    }
   ],
   "source": [
    "df = dataB.query(\"Name == 'Aaron Judge'\")\n",
    "player_elem = [[float(df[\"Age\"].iloc[0]), int(df[\"G\"].iloc[0]), int(df[\"PA\"].iloc[0]), float(df[\"BA\"].iloc[0]), float(df[\"OBP\"].iloc[0]), float(df[\"SLG\"].iloc[0]), int(df[\"R\"].iloc[0]), int(df[\"RBI\"].iloc[0]), int(df[\"HR\"].iloc[0]), int(df[\"SB\"].iloc[0]), 10]]\n",
    "temp = pd.DataFrame(player_elem, columns=\"Age, GP, PA, BA, OBP, SLG, R, RBI, HR, SB, SR Score\".split(\", \"))\n",
    "clf.predict(temp)"
   ]
  },
  {
   "cell_type": "code",
   "execution_count": null,
   "metadata": {},
   "outputs": [],
   "source": []
  }
 ],
 "metadata": {
  "kernelspec": {
   "display_name": "Python 3",
   "language": "python",
   "name": "python3"
  },
  "language_info": {
   "codemirror_mode": {
    "name": "ipython",
    "version": 3
   },
   "file_extension": ".py",
   "mimetype": "text/x-python",
   "name": "python",
   "nbconvert_exporter": "python",
   "pygments_lexer": "ipython3",
   "version": "3.11.4"
  }
 },
 "nbformat": 4,
 "nbformat_minor": 2
}
